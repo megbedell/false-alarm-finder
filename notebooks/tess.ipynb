{
 "cells": [
  {
   "cell_type": "code",
   "execution_count": 1,
   "metadata": {},
   "outputs": [],
   "source": [
    "import numpy as np\n",
    "import matplotlib.pyplot as plt"
   ]
  },
  {
   "cell_type": "code",
   "execution_count": 2,
   "metadata": {},
   "outputs": [],
   "source": [
    "tois = np.genfromtxt('../data/toi-plus-2019-01-07.csv', delimiter=',', \n",
    "                     usecols=[1,2,3,4,5], names=True, dtype=None, encoding=None)"
   ]
  },
  {
   "cell_type": "markdown",
   "metadata": {},
   "source": [
    "#### For a given TOI, get all Gaia sources that may fall within the aperture"
   ]
  },
  {
   "cell_type": "code",
   "execution_count": 3,
   "metadata": {},
   "outputs": [
    {
     "name": "stdout",
     "output_type": "stream",
     "text": [
      "Created TAP+ (v1.0.1) - Connection:\n",
      "\tHost: gea.esac.esa.int\n",
      "\tUse HTTPS: False\n",
      "\tPort: 80\n",
      "\tSSL Port: 443\n"
     ]
    }
   ],
   "source": [
    "import astropy.units as u\n",
    "from astropy.coordinates import SkyCoord\n",
    "from astroquery.gaia import Gaia"
   ]
  },
  {
   "cell_type": "code",
   "execution_count": 4,
   "metadata": {},
   "outputs": [],
   "source": [
    "coord = SkyCoord(ra=tois['RA'][0], dec=tois['Dec'][0], unit=(u.degree, u.degree))\n",
    "radius = 2.*60 # 2 arcmin in arcsec"
   ]
  },
  {
   "cell_type": "markdown",
   "metadata": {},
   "source": [
    "(TODO: ideally we'd search with a larger radius then do a cut based on the boundaries of the TESS aperture choice.)"
   ]
  },
  {
   "cell_type": "code",
   "execution_count": 8,
   "metadata": {},
   "outputs": [],
   "source": [
    "def find_all_sources(coord, radius=8.):\n",
    "    # Search Gaia for source at coord. Return all matches within radius (in arcsec).\n",
    "    r = u.Quantity(radius, u.arcsec)\n",
    "    j = Gaia.cone_search_async(coord, r)\n",
    "    tbl = j.get_results()\n",
    "    return tbl['source_id', 'phot_g_mean_mag']"
   ]
  },
  {
   "cell_type": "code",
   "execution_count": 9,
   "metadata": {},
   "outputs": [
    {
     "name": "stderr",
     "output_type": "stream",
     "text": [
      "WARNING: W35: None:5:0: W35: 'value' attribute required for INFO elements [astropy.io.votable.tree]\n",
      "WARNING: W35: None:6:0: W35: 'value' attribute required for INFO elements [astropy.io.votable.tree]\n",
      "WARNING: W35: None:7:0: W35: 'value' attribute required for INFO elements [astropy.io.votable.tree]\n",
      "WARNING: W35: None:8:0: W35: 'value' attribute required for INFO elements [astropy.io.votable.tree]\n",
      "WARNING: W35: None:10:0: W35: 'value' attribute required for INFO elements [astropy.io.votable.tree]\n",
      "WARNING: W27: None:11:0: W27: COOSYS deprecated in VOTable 1.2 [astropy.io.votable.tree]\n",
      "WARNING: W06: None:48:0: W06: Invalid UCD 'arith.ratio': Secondary word 'arith.ratio' is not valid as a primary word [astropy.io.votable.tree]\n",
      "WARNING: W50: None:51:0: W50: Invalid unit string 'mas.yr**-1' [astropy.io.votable.tree]\n",
      "WARNING: W50: None:54:0: W50: Invalid unit string 'mas.yr**-1' [astropy.io.votable.tree]\n",
      "WARNING: W50: None:57:0: W50: Invalid unit string 'mas.yr**-1' [astropy.io.votable.tree]\n",
      "WARNING: W50: None:60:0: W50: Invalid unit string 'mas.yr**-1' [astropy.io.votable.tree]\n",
      "WARNING: W50: None:123:0: W50: Invalid unit string 'mas**-2' [astropy.io.votable.tree]\n",
      "WARNING: W50: None:126:0: W50: Invalid unit string 'um**-1' [astropy.io.votable.tree]\n",
      "WARNING: W06: None:129:0: W06: Invalid UCD 'em.wavenumber;stat.error': Primary word 'stat.error' is not valid as a secondary word [astropy.io.votable.tree]\n",
      "WARNING: W50: None:129:0: W50: Invalid unit string 'um**-1' [astropy.io.votable.tree]\n",
      "WARNING: W06: None:141:0: W06: Invalid UCD 'pos.errorEllipse;stat.max': Secondary word 'pos.errorEllipse' is not valid as a primary word [astropy.io.votable.tree]\n",
      "WARNING: W50: None:156:0: W50: Invalid unit string ''electron'.s**-1' [astropy.io.votable.tree]\n",
      "WARNING: W50: None:159:0: W50: Invalid unit string ''electron'.s**-1' [astropy.io.votable.tree]\n",
      "WARNING: W06: None:162:0: W06: Invalid UCD 'arith.ratio': Secondary word 'arith.ratio' is not valid as a primary word [astropy.io.votable.tree]\n",
      "WARNING: W50: None:171:0: W50: Invalid unit string ''electron'.s**-1' (suppressing further warnings of this type...) [astropy.io.votable.tree]\n",
      "WARNING: W06: None:177:0: W06: Invalid UCD 'arith.ratio': Secondary word 'arith.ratio' is not valid as a primary word [astropy.io.votable.tree]\n",
      "WARNING: W06: None:192:0: W06: Invalid UCD 'arith.ratio': Secondary word 'arith.ratio' is not valid as a primary word [astropy.io.votable.tree]\n",
      "WARNING: W06: None:204:0: W06: Invalid UCD 'phot.color': Unknown word 'phot.color' [astropy.io.votable.tree]\n",
      "WARNING: W06: None:207:0: W06: Invalid UCD 'phot.color': Unknown word 'phot.color' [astropy.io.votable.tree]\n",
      "WARNING: W06: None:210:0: W06: Invalid UCD 'phot.color': Unknown word 'phot.color' [astropy.io.votable.tree]\n",
      "WARNING: W06: None:282:0: W06: Invalid UCD 'phys.size.radius;stat.error': Primary word 'stat.error' is not valid as a secondary word (suppressing further warnings of this type...) [astropy.io.votable.tree]\n"
     ]
    },
    {
     "name": "stdout",
     "output_type": "stream",
     "text": [
      "Query finished.\n"
     ]
    },
    {
     "data": {
      "text/html": [
       "<i>Table masked=True length=22</i>\n",
       "<table id=\"table4574183040\" class=\"table-striped table-bordered table-condensed\">\n",
       "<thead><tr><th>source_id</th><th>phot_g_mean_mag</th></tr></thead>\n",
       "<thead><tr><th></th><th>mag</th></tr></thead>\n",
       "<thead><tr><th>int64</th><th>float32</th></tr></thead>\n",
       "<tr><td>6608926350294211328</td><td>9.29458</td></tr>\n",
       "<tr><td>6608926354589281792</td><td>20.773655</td></tr>\n",
       "<tr><td>6608926041057817856</td><td>19.530993</td></tr>\n",
       "<tr><td>6608926041056797568</td><td>19.094648</td></tr>\n",
       "<tr><td>6608925972337305216</td><td>19.97287</td></tr>\n",
       "<tr><td>6608926423308761088</td><td>20.60856</td></tr>\n",
       "<tr><td>6608926045352154624</td><td>15.1599</td></tr>\n",
       "<tr><td>6608925220717915136</td><td>20.956911</td></tr>\n",
       "<tr><td>6608925594380185600</td><td>18.794764</td></tr>\n",
       "<tr><td>...</td><td>...</td></tr>\n",
       "<tr><td>6608925628739939328</td><td>19.598059</td></tr>\n",
       "<tr><td>6608925628739930496</td><td>20.352888</td></tr>\n",
       "<tr><td>6608926625172360576</td><td>19.421328</td></tr>\n",
       "<tr><td>6608926457668500096</td><td>20.463717</td></tr>\n",
       "<tr><td>6608926457669014016</td><td>14.356011</td></tr>\n",
       "<tr><td>6608926487733405184</td><td>19.62404</td></tr>\n",
       "<tr><td>6608926663827444736</td><td>15.885981</td></tr>\n",
       "<tr><td>6608925560020452736</td><td>17.593231</td></tr>\n",
       "<tr><td>6608925731819159808</td><td>16.139816</td></tr>\n",
       "<tr><td>6608926487733409792</td><td>19.409336</td></tr>\n",
       "</table>"
      ],
      "text/plain": [
       "<Table masked=True length=22>\n",
       "     source_id      phot_g_mean_mag\n",
       "                          mag      \n",
       "       int64            float32    \n",
       "------------------- ---------------\n",
       "6608926350294211328         9.29458\n",
       "6608926354589281792       20.773655\n",
       "6608926041057817856       19.530993\n",
       "6608926041056797568       19.094648\n",
       "6608925972337305216        19.97287\n",
       "6608926423308761088        20.60856\n",
       "6608926045352154624         15.1599\n",
       "6608925220717915136       20.956911\n",
       "6608925594380185600       18.794764\n",
       "                ...             ...\n",
       "6608925628739939328       19.598059\n",
       "6608925628739930496       20.352888\n",
       "6608926625172360576       19.421328\n",
       "6608926457668500096       20.463717\n",
       "6608926457669014016       14.356011\n",
       "6608926487733405184        19.62404\n",
       "6608926663827444736       15.885981\n",
       "6608925560020452736       17.593231\n",
       "6608925731819159808       16.139816\n",
       "6608926487733409792       19.409336"
      ]
     },
     "execution_count": 9,
     "metadata": {},
     "output_type": "execute_result"
    }
   ],
   "source": [
    "srcs = find_all_sources(coord, radius=radius)\n",
    "srcs"
   ]
  },
  {
   "cell_type": "code",
   "execution_count": null,
   "metadata": {},
   "outputs": [],
   "source": []
  }
 ],
 "metadata": {
  "kernelspec": {
   "display_name": "Python 3",
   "language": "python",
   "name": "python3"
  },
  "language_info": {
   "codemirror_mode": {
    "name": "ipython",
    "version": 3
   },
   "file_extension": ".py",
   "mimetype": "text/x-python",
   "name": "python",
   "nbconvert_exporter": "python",
   "pygments_lexer": "ipython3",
   "version": "3.6.0"
  }
 },
 "nbformat": 4,
 "nbformat_minor": 2
}
